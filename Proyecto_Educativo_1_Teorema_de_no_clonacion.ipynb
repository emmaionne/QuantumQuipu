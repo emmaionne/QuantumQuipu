{
 "cells": [
  {
   "cell_type": "markdown",
   "id": "f1f6d6ea-d508-42bf-a9a5-bb2e9edbc955",
   "metadata": {},
   "source": [
    "## Teorema de No-Clonación\n",
    "Estudiamos el teorema de no clonación de la computación cuántica, tomando como referencia la prueba del libro Quantum Computation and Quantum Information, de Michael Nielsen an Isaac Chuang. \n",
    "\n"
   ]
  },
  {
   "cell_type": "markdown",
   "id": "8b2ba5d6-9a14-4a89-98e6-62f8863dfbfe",
   "metadata": {},
   "source": [
    "Que significa clonación?\n",
    "- Clonación en Biología: Clonar es duplicar exactamente, sea un gen, un microorganismo completo o un microorganismo que sea una copia genéticamente idéntica de otro microorganismo.\n",
    "- En física: La copia más perfecta relativa a las posiciones, momentos, niveles de energía de cada partícula y todos sus enlaces e interacciones son exactamente las mismas en la copia como en la original, tal que no se puedan diferenciar.\n",
    "\n",
    "Por lo tanto, la clonación perfecta en nuestro Universo es imposible, y la mecánica cuántica nos ofrece una prueba matemática de ello.\n",
    "\n",
    "### Consideremos la tarea de copiar un bit clásico\n",
    "\n",
    "<center>\n",
    "<img src=\"Cloning.drawio.png\">\n",
    "    \n",
    "Para esto proponemos una máquina reversible con dos entradas: una el bit a copiar $x=0,1$ y la segunda entrada como el bit $0$. \n",
    "Las salidas son, la entrada $x$ y la segunda salida corresponde a la operación de la máquina tal que $f(x,0)=x$. \n",
    "\n",
    "La operación, que en efecto realiza esta tarea es la suma modulo dos o en compuertas lógicas, el operador XOR, (eXclusive OR). \n",
    "\n",
    "Observamos que secuencias de bits, pueden ser copiadas sin ninguna dificultad. "
   ]
  },
  {
   "cell_type": "markdown",
   "id": "3fb3eb93-4af7-4305-a5cf-e396a8143320",
   "metadata": {},
   "source": [
    "### Consideremos la tarea de copiar un qubit\n",
    "Supongamos que queremos copiar un qubit en el estado desconocido $\\ket{\\psi} = a\\ket{0} + b\\ket{1}$, de la misma forma utilizando una compuerta que suma modulo 2 las dos entradas, en este caso, proponemos la compuerta CNOT, como observamos en la figura \n",
    "\n",
    "<center>\n",
    "<img src=\"CloningCnot.drawio.png\">\n",
    "    \n",
    "El estado de entrada de los dos qubits puede ser escrito como $$(a\\ket{0}+b\\ket{1})\\ket{0}= a\\ket{00} +b\\ket{10}$$\n",
    "aplicamos la compuerta CNOT\n",
    "$$CNOT( a\\ket{00} +b\\ket{10}) = aCNOT\\ket{00} + bCNOT\\ket{10} = a\\ket{00} + b\\ket{11}$$\n",
    "el cual es un estado entrelazado.\n",
    "Pero no corresponde con lo que queriamos copiar el estado $\\ket{\\psi}$, es decir, obtener,  $\\ket{\\psi}\\ket{\\psi}$.\n",
    "\n",
    "Si consideramos \n",
    "- $\\ket{\\psi}= \\ket{0}$ -->\n",
    "$CNOT (\\ket{00}) = \\ket{00}$\n",
    "- $\\ket{\\psi}= \\ket{1}$ -->\n",
    "$CNOT (\\ket{10}) = \\ket{11}$\n",
    "\n",
    "El circuito si copia el qubit de entrada o de control."
   ]
  },
  {
   "cell_type": "markdown",
   "id": "72e55f9b-1f47-45c0-b7b5-636c1dde7a37",
   "metadata": {},
   "source": [
    "#### ¿Es posible usar circuitos cuánticos para copiar información clásica codificada como $\\ket{0}$ o $\\ket{1}$?\n",
    "\n",
    "Observamos que si.\n",
    "\n",
    "Sin embargo para un estado general $\\ket{\\psi}$ vemos que \n",
    "$$\\ket{\\psi} \\ket{\\psi} = (a\\ket{0} + b\\ket{1})(a\\ket{0} + b\\ket{1}) = a^2 \\ket{0}\\ket{0}+ab\\ket{0}\\ket{1}+ba\\ket{1}\\ket{0}+b^2\\ket{1}\\ket{1}$$ Si comparamos con el resultado $ a\\ket{00} + b\\ket{11}$, vemos que a menos que $ab=0$ el circuito de copia anterior no copia la entrada del estado cuántico."
   ]
  },
  {
   "cell_type": "markdown",
   "id": "c1e9a3ca-cffd-420f-b209-9f455777ff95",
   "metadata": {},
   "source": [
    "### De hecho resulta ser imposible hacer una copia de un estado cuántico desconocido."
   ]
  },
  {
   "cell_type": "markdown",
   "id": "f1e3b2bf-6cd9-42bd-85b8-2f8a0f375ea2",
   "metadata": {},
   "source": [
    "# El Teorema de No Clonación\n",
    "\n",
    "¿Es posible hacer una copia de un estado cuántico desconocido?\n",
    "Queremos mostrar la razón esencial porque no es posible.\n",
    "\n",
    "Supongamos que tenemos una máquina cuántica con dos rendijas etiquetadas $A$ y $B$.\n",
    "\n",
    "- $A$ corresponde a los datos, inicializada en un estado cuántico puro desconocido $\\ket{\\psi}$.\n",
    "\n",
    "En $A$ ingresa el estado que se quiere copiar en la rendija $B$.\n",
    "\n",
    "- $B$ es la rendija objetivo. Y suponemos que se encuentra inicializada en algún estado puro $\\ket{s}$.\n",
    "\n",
    "Así que el estado inicial de la máquina de copiar es \n",
    "$$ \\ket{\\psi} \\otimes \\ket{s} $$\n",
    "Consideramos que alguna evolución unitaria $U$ efectua la copia del qubit, idealmente\n",
    "$$ \\ket{\\psi} \\otimes \\ket{s} \\rightarrow U( \\ket{\\psi} \\otimes \\ket{s}) =  \\ket{\\psi} \\otimes \\ket{\\psi} $$\n",
    "- Supongamos que este procedimiento de copia trabaja para dos estados puros particulares, $\\ket{\\psi}$ y $\\ket{\\varphi}$.\n",
    "\n",
    "Entonces tenemos \n",
    "$$  U( \\ket{\\psi} \\otimes \\ket{s}) =  \\ket{\\psi} \\otimes \\ket{\\psi}$$\n",
    "$$  U( \\ket{\\varphi} \\otimes \\ket{s}) =  \\ket{\\varphi} \\otimes \\ket{\\varphi}$$\n",
    "\n",
    "Tomando el producto interno de estas dos ecuaciones\n",
    "$$ < U( \\ket{\\psi} \\otimes \\ket{s}) ,  U( \\ket{\\varphi} \\otimes \\ket{s})> = <\\ket{\\psi} \\otimes \\ket{\\psi}, \\ket{\\varphi} \\otimes \\ket{\\varphi}> $$\n",
    "$$ \\bra{s} \\otimes \\bra{\\psi} U^* U \\ket{\\varphi} \\otimes \\ket{s} = \\bra{\\psi} \\otimes \\bra{\\psi}\\ket{\\varphi} \\otimes \\ket{\\varphi}  $$\n",
    "$$ \\bra{s} \\bra{\\psi} \\ket{\\varphi} \\ket{s} = \\bra{\\psi}\\bra{\\psi}\\ket{\\varphi}\\ket{\\varphi}  $$\n",
    "$$ \\bra{\\psi} \\ket{\\varphi} \\bra{s} \\ket{s} = \\bra{\\psi}\\ket{\\varphi}\\bra{\\psi}\\ket{\\varphi} $$ ya que $\\bra{s} \\ket{s} = 1$ dado que los estados puros tienen norma $1$, obtenemos\n",
    "$$ \\bra{\\psi} \\ket{\\varphi} = (\\bra{\\psi}\\ket{\\varphi}) ^2 \\in \\mathbb R$$\n",
    "\n",
    "Ahora $x= x^2$ tiene solo dos soluciones $x=0$ o $x=1$, así que, \n",
    "- $\\ket{\\psi}= \\ket{\\varphi}$ o\n",
    "- $\\ket{\\psi}$ es ortogonal a $\\ket{\\varphi}$  \n",
    "\n",
    "Así que un dispositivo de clonación puede solamente clonar estados que son ortogonales entre ellos, y por lo tanto un dispositivo de clonación cuántica en general, es imposible. \n",
    "\n",
    "Por ejemplo, si $\\ket{\\psi} = \\ket{0}$ y $\\ket{\\varphi} = \\frac{1}{\\sqrt{2}}(\\ket{0}+\\ket{1)}$ no pueden ser clonados porque no son ortogonales.\n",
    "\n",
    "Lo que se ha demostrado es que es imposible clonar perfectamente un estado cuántico desconocido usando una operador de evolución unitaria.\n",
    "\n",
    "Varias preguntas naturalmente surgen:\n",
    "\n",
    "- Y si intentamos copiar un estado mixto?\n",
    "- Y si permitimos dispositivos de clonación que no sean unitarios?\n",
    "- Fidelidad\n",
    "\n",
    "Son preguntas que han sido el tema de una gran investigación.\n",
    "\n",
    "El resumen corto de este trabajo es que incluso si se permiten dispositivos de clonación no unitarios, la clonación de estados ortogonales puros permanece imposible a menos que  se este dispuesto a tolerar una pérdida finita de fidelidad en los estados copiados. Y conclusiones similares se obtienen para estados mixtos. Aunque se requiere de un enfoque más sofisticado para definir lo que significa la noción de clonar un estado mixto.\n",
    "\n"
   ]
  },
  {
   "cell_type": "markdown",
   "id": "e3f1c055-3324-4491-86c6-a83c2bd4b602",
   "metadata": {},
   "source": [
    "History and further reading investigations"
   ]
  },
  {
   "cell_type": "code",
   "execution_count": null,
   "id": "6903ba03-c6a2-4507-bb5b-d6744248c877",
   "metadata": {},
   "outputs": [],
   "source": [
    "Bi"
   ]
  }
 ],
 "metadata": {
  "kernelspec": {
   "display_name": "Python 3 (ipykernel)",
   "language": "python",
   "name": "python3"
  },
  "language_info": {
   "codemirror_mode": {
    "name": "ipython",
    "version": 3
   },
   "file_extension": ".py",
   "mimetype": "text/x-python",
   "name": "python",
   "nbconvert_exporter": "python",
   "pygments_lexer": "ipython3",
   "version": "3.8.6"
  }
 },
 "nbformat": 4,
 "nbformat_minor": 5
}
